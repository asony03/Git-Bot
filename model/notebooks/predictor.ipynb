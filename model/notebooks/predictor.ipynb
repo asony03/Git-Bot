{
 "cells": [
  {
   "cell_type": "code",
   "execution_count": 1,
   "metadata": {},
   "outputs": [],
   "source": [
    "import tensorflow as tf\n",
    "from utils import IssueLabeler\n",
    "from tensorflow.keras.models import load_model\n",
    "import dill as dpickle"
   ]
  },
  {
   "cell_type": "code",
   "execution_count": 6,
   "metadata": {},
   "outputs": [],
   "source": [
    "best_model = load_model('../Issue_Label_v1_best_model.hdf5')\n",
    "\n",
    "#load the pre-processors\n",
    "with open('../pickles/title_pp.dpkl', 'rb') as f:\n",
    "    title_pp = dpickle.load(f)\n",
    "\n",
    "with open('../pickles/body_pp.dpkl', 'rb') as f:\n",
    "    body_pp = dpickle.load(f)\n",
    "    \n",
    "# instantiate the IssueLabeler object\n",
    "issue_labeler = IssueLabeler(body_text_preprocessor=body_pp,\n",
    "                             title_text_preprocessor=title_pp,\n",
    "                             model=best_model)"
   ]
  },
  {
   "cell_type": "code",
   "execution_count": 5,
   "metadata": {},
   "outputs": [
    {
     "data": {
      "text/plain": [
       "{'bug': 0.05831879749894142,\n",
       " 'feature_request': 0.24739360809326172,\n",
       " 'question': 0.6942875981330872}"
      ]
     },
     "execution_count": 5,
     "metadata": {},
     "output_type": "execute_result"
    }
   ],
   "source": [
    "issue_labeler.get_probabilities(body='Can someone please help me?', \n",
    "                                title='random stuff')"
   ]
  },
  {
   "cell_type": "code",
   "execution_count": null,
   "metadata": {},
   "outputs": [],
   "source": []
  }
 ],
 "metadata": {
  "kernelspec": {
   "display_name": "Python (py36)",
   "language": "python",
   "name": "py36"
  },
  "language_info": {
   "codemirror_mode": {
    "name": "ipython",
    "version": 3
   },
   "file_extension": ".py",
   "mimetype": "text/x-python",
   "name": "python",
   "nbconvert_exporter": "python",
   "pygments_lexer": "ipython3",
   "version": "3.6.9"
  }
 },
 "nbformat": 4,
 "nbformat_minor": 2
}
